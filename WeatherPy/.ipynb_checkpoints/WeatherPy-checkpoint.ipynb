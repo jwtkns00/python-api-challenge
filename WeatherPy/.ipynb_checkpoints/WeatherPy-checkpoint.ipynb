{
 "cells": [
  {
   "cell_type": "markdown",
   "metadata": {},
   "source": [
    "# WeatherPy\n",
    "----\n",
    "\n",
    "#### Note\n",
    "* Instructions have been included for each segment. You do not have to follow them exactly, but they are included to help you think through the steps."
   ]
  },
  {
   "cell_type": "markdown",
   "metadata": {},
   "source": [
    "Observable Trends based on dataset:\n",
    "\n",
    "1. As you get closer to the equator temperature rises, the temperature drops the farther away you travel. \n",
    "\n",
    "2. Wind Speed increases slightly as you travel away from the equator.\n",
    "\n",
    "3. Humidity and Cloudiness do not show much of a correlation to Latitude"
   ]
  },
  {
   "cell_type": "code",
   "execution_count": 1,
   "metadata": {
    "scrolled": true
   },
   "outputs": [],
   "source": [
    "# Dependencies and Setup\n",
    "import matplotlib.pyplot as plt\n",
    "import pandas as pd\n",
    "import numpy as np\n",
    "import requests\n",
    "import time\n",
    "from scipy.stats import linregress\n",
    "from pprint import pprint\n",
    "from datetime import datetime\n",
    "\n",
    "# Import API key\n",
    "from api_keys_2 import weather_api_key\n",
    "\n",
    "# Incorporated citipy to determine city based on latitude and longitude\n",
    "from citipy import citipy\n",
    "\n",
    "# Output File (CSV)\n",
    "output_data_file = \"output_data/cities.csv\"\n",
    "\n",
    "# Range of latitudes and longitudes\n",
    "lat_range = (-90, 90)\n",
    "lng_range = (-180, 180)\n",
    "\n",
    "#Define URL\n",
    "\n",
    "url = \"http://api.openweathermap.org/data/2.5/weather?units=Imperial&APPID=\" + weather_api_key\n",
    "\n"
   ]
  },
  {
   "cell_type": "markdown",
   "metadata": {},
   "source": [
    "## Generate Cities List"
   ]
  },
  {
   "cell_type": "code",
   "execution_count": 2,
   "metadata": {},
   "outputs": [
    {
     "name": "stdout",
     "output_type": "stream",
     "text": [
      "637\n"
     ]
    }
   ],
   "source": [
    "# List for holding lat_lngs and cities\n",
    "lat_lngs = []\n",
    "cities = []\n",
    "\n",
    "# Create a set of random lat and lng combinations\n",
    "lats = np.random.uniform(low=-90.000, high=90.000, size=1500)\n",
    "lngs = np.random.uniform(low=-180.000, high=180.000, size=1500)\n",
    "lat_lngs = zip(lats, lngs)\n",
    "\n",
    "# Identify nearest city for each lat, lng combination\n",
    "for lat_lng in lat_lngs:\n",
    "    city = citipy.nearest_city(lat_lng[0], lat_lng[1]).city_name\n",
    "    \n",
    "    #Repalce spaces with %20 to create URL\n",
    "    city = city.replace(\" \", \"%20\")\n",
    "    \n",
    "    # If the city is unique, then add it to a our cities list\n",
    "    if city not in cities:\n",
    "        cities.append(city)\n",
    "\n",
    "# Print the city count to confirm sufficient count\n",
    "lat_lng_list = list(lat_lngs)\n",
    "print(len(cities)) "
   ]
  },
  {
   "cell_type": "markdown",
   "metadata": {},
   "source": [
    "### Perform API Calls\n",
    "* Perform a weather check on each city using a series of successive API calls.\n",
    "* Include a print log of each city as it'sbeing processed (with the city number and city name).\n"
   ]
  },
  {
   "cell_type": "code",
   "execution_count": 3,
   "metadata": {},
   "outputs": [
    {
     "name": "stdout",
     "output_type": "stream",
     "text": [
      "Processing Record 1 | Berlare\n",
      "Processing Record 2 | Verkhoyansk\n",
      "City not found... Skipping.\n",
      "City not found... Skipping.\n",
      "Processing Record 3 | Longyearbyen\n",
      "Processing Record 4 | Nogales\n",
      "Processing Record 5 | São Miguel\n",
      "Processing Record 6 | Itarema\n",
      "Processing Record 7 | Progreso\n",
      "Processing Record 8 | Yamada\n",
      "Processing Record 9 | Yellowknife\n",
      "Processing Record 10 | Albany\n",
      "Processing Record 11 | Manicoré\n",
      "Processing Record 12 | Hermanus\n",
      "Processing Record 13 | Kamaishi\n",
      "City not found... Skipping.\n",
      "Processing Record 14 | Carbonia\n",
      "Processing Record 15 | Tasiilaq\n",
      "Processing Record 16 | Busselton\n",
      "Processing Record 17 | Mar del Plata\n",
      "Processing Record 18 | Bambous Virieux\n",
      "Processing Record 19 | Butaritari\n",
      "Processing Record 20 | Ternate\n",
      "Processing Record 21 | Bathsheba\n",
      "Processing Record 22 | Chokurdakh\n",
      "Processing Record 23 | Constitución\n",
      "Processing Record 24 | Castro\n",
      "Processing Record 25 | Tiksi\n",
      "Processing Record 26 | Nome\n",
      "Processing Record 27 | Port Lincoln\n",
      "Processing Record 28 | Punta Arenas\n",
      "Processing Record 29 | Gimli\n",
      "Processing Record 30 | Isetskoye\n",
      "Processing Record 31 | Veseloyarsk\n",
      "Processing Record 32 | Carballo\n",
      "Processing Record 33 | Bredasdorp\n",
      "Processing Record 34 | Kaitangata\n",
      "Processing Record 35 | Lompoc\n",
      "Processing Record 36 | Rikitea\n",
      "Processing Record 37 | Dikson\n",
      "Processing Record 38 | Vaini\n",
      "Processing Record 39 | Jamestown\n",
      "Processing Record 40 | Avarua\n",
      "Processing Record 41 | Berdychiv\n",
      "Processing Record 42 | Aguadilla\n",
      "Processing Record 43 | Hobart\n",
      "Processing Record 44 | Broome\n",
      "Processing Record 45 | Grand Gaube\n",
      "Processing Record 46 | Yeppoon\n",
      "Processing Record 47 | Talnakh\n",
      "City not found... Skipping.\n",
      "Processing Record 48 | Aljezur\n",
      "City not found... Skipping.\n",
      "Processing Record 49 | Paracuru\n",
      "Processing Record 50 | Petit-Bourg\n",
      "Processing Record 51 | Ginda\n",
      "Processing Record 52 | Camacha\n",
      "Processing Record 53 | East London\n",
      "Processing Record 54 | Āsosa\n",
      "Processing Record 55 | Marsá Maţrūḩ\n",
      "Processing Record 56 | Sioux Lookout\n",
      "Processing Record 57 | Rongcheng\n",
      "City not found... Skipping.\n",
      "Processing Record 58 | New Norfolk\n",
      "City not found... Skipping.\n",
      "Processing Record 59 | Beringovskiy\n",
      "City not found... Skipping.\n",
      "City not found... Skipping.\n",
      "Processing Record 60 | Arraial do Cabo\n",
      "Processing Record 61 | Elko\n",
      "Processing Record 62 | Borba\n",
      "City not found... Skipping.\n",
      "Processing Record 63 | Trairi\n",
      "Processing Record 64 | Thompson\n",
      "Processing Record 65 | Hilo\n",
      "Processing Record 66 | Elizabeth City\n",
      "Processing Record 67 | Port Hedland\n",
      "Processing Record 68 | Batemans Bay\n",
      "Processing Record 69 | Hasaki\n",
      "Processing Record 70 | Ushuaia\n",
      "Processing Record 71 | Bluff\n",
      "Processing Record 72 | Kochubey\n",
      "Processing Record 73 | Deputatsky\n",
      "City not found... Skipping.\n",
      "Processing Record 74 | Laramie\n",
      "Processing Record 75 | Kapaa\n",
      "Processing Record 76 | Middleton\n",
      "Processing Record 77 | Flinders\n",
      "Processing Record 78 | Port Elizabeth\n",
      "Processing Record 79 | Chicama\n",
      "Processing Record 80 | Eilenburg\n",
      "Processing Record 81 | Ulladulla\n",
      "Processing Record 82 | Tuktoyaktuk\n",
      "Processing Record 83 | Roebourne\n",
      "Processing Record 84 | Bethel\n",
      "Processing Record 85 | Gizo Government Station\n",
      "Processing Record 86 | Bangassou\n",
      "Processing Record 87 | Sindor\n",
      "Processing Record 88 | Mataura\n",
      "Processing Record 89 | New Iberia\n",
      "Processing Record 90 | Vanavara\n",
      "Processing Record 91 | Dvinskoy Bereznik\n",
      "Processing Record 92 | Saint-Pierre\n",
      "Processing Record 93 | Kilindoni\n",
      "Processing Record 94 | Shimoda\n",
      "Processing Record 95 | Shīeli\n",
      "Processing Record 96 | Kot Samaba\n",
      "Processing Record 97 | Kahului\n",
      "Processing Record 98 | Hong Kong\n",
      "Processing Record 99 | Cape Town\n",
      "City not found... Skipping.\n",
      "Processing Record 100 | George Town\n",
      "Processing Record 101 | Obo\n",
      "Processing Record 102 | Khatanga\n",
      "Processing Record 103 | Port Alfred\n",
      "Processing Record 104 | Simões\n",
      "Processing Record 105 | Palmer\n",
      "Processing Record 106 | Banjar\n",
      "Processing Record 107 | Raudeberg\n",
      "Processing Record 108 | Qaanaaq\n",
      "Processing Record 109 | Ambon City\n",
      "Processing Record 110 | Kavieng\n",
      "City not found... Skipping.\n",
      "Processing Record 111 | La Sarre\n",
      "Processing Record 112 | Vardø\n",
      "Processing Record 113 | Atuona\n",
      "City not found... Skipping.\n",
      "Processing Record 114 | Clyde River\n",
      "Processing Record 115 | Archidona\n",
      "Processing Record 116 | Hamilton\n",
      "Processing Record 117 | Dakar\n",
      "Processing Record 118 | Araouane\n",
      "Processing Record 119 | Flin Flon\n",
      "Processing Record 120 | Portland\n",
      "Processing Record 121 | Plettenberg Bay\n",
      "Processing Record 122 | Torbay\n",
      "Processing Record 123 | Puerto Madero\n",
      "Processing Record 124 | Oranjemund\n",
      "Processing Record 125 | San Vicente\n",
      "Processing Record 126 | Kyabé\n",
      "City not found... Skipping.\n",
      "Processing Record 127 | Fare\n",
      "Processing Record 128 | Arawa\n",
      "Processing Record 129 | Hithadhoo\n",
      "Processing Record 130 | Cabedelo\n",
      "Processing Record 131 | Barrow\n",
      "Processing Record 132 | Vao\n",
      "Processing Record 133 | Shache\n",
      "Processing Record 134 | Kruisfontein\n",
      "Processing Record 135 | Saskylakh\n",
      "Processing Record 136 | Novoagansk\n",
      "Processing Record 137 | Iroquois Falls\n",
      "Processing Record 138 | Khovd\n",
      "Processing Record 139 | Saint George\n",
      "Processing Record 140 | Vila Velha\n",
      "Processing Record 141 | Laas\n",
      "Processing Record 142 | Faanui\n",
      "Processing Record 143 | Honningsvåg\n",
      "Processing Record 144 | Anadyr\n",
      "Processing Record 145 | Porosozero\n",
      "Processing Record 146 | Narsaq\n",
      "City not found... Skipping.\n",
      "Processing Record 147 | Chipping Sodbury\n",
      "Processing Record 148 | Quaraí\n",
      "Processing Record 149 | Hofn\n",
      "Processing Record 150 | Sabha\n",
      "Processing Record 151 | Māngrol\n",
      "Processing Record 152 | Zharkent\n",
      "Processing Record 153 | Fortuna\n",
      "Processing Record 154 | Evensk\n",
      "Processing Record 155 | Cairns\n",
      "Processing Record 156 | Vostok\n",
      "Processing Record 157 | Puerto Ayora\n",
      "Processing Record 158 | Geraldton\n",
      "Processing Record 159 | Suwałki\n",
      "Processing Record 160 | Ribeira Grande\n",
      "Processing Record 161 | Yatou\n",
      "Processing Record 162 | Yumen\n",
      "Processing Record 163 | Abu Kamal\n",
      "Processing Record 164 | Verkhnetulomskiy\n",
      "Processing Record 165 | Amga\n",
      "City not found... Skipping.\n",
      "Processing Record 166 | Roboré\n",
      "Processing Record 167 | Nadvoitsy\n",
      "Processing Record 168 | Teknāf\n",
      "Processing Record 169 | Marovoay\n",
      "Processing Record 170 | Siemiatycze\n",
      "Processing Record 171 | Pital\n",
      "Processing Record 172 | Kailua\n",
      "Processing Record 173 | Vila Franca do Campo\n",
      "Processing Record 174 | Eau Claire\n",
      "Processing Record 175 | Château-Gontier\n",
      "Processing Record 176 | Katsuura\n",
      "Processing Record 177 | Terney\n",
      "Processing Record 178 | Mogadishu\n",
      "Processing Record 179 | Dawson Creek\n",
      "Processing Record 180 | Stromness\n",
      "Processing Record 181 | Nanortalik\n",
      "Processing Record 182 | Cidreira\n",
      "Processing Record 183 | Druskininkai\n",
      "Processing Record 184 | Ilulissat\n",
      "Processing Record 185 | Faya\n",
      "Processing Record 186 | Port-Cartier\n",
      "Processing Record 187 | Ketchikan\n",
      "Processing Record 188 | Melville\n",
      "Processing Record 189 | Mackay\n",
      "Processing Record 190 | Mala\n",
      "Processing Record 191 | Aksarka\n",
      "Processing Record 192 | Pozo Colorado\n",
      "Processing Record 193 | Karpathos\n",
      "Processing Record 194 | Sexsmith\n",
      "Processing Record 195 | Jiangyou\n",
      "Processing Record 196 | Tsukuba\n",
      "Processing Record 197 | Hegang\n",
      "Processing Record 198 | Barranca\n",
      "Processing Record 199 | São Filipe\n",
      "Processing Record 200 | Asifābād\n",
      "Processing Record 201 | Viranşehir\n",
      "Processing Record 202 | Nichinan\n",
      "Processing Record 203 | Ishigaki\n",
      "Processing Record 204 | Paso de Carrasco\n",
      "Processing Record 205 | Haines Junction\n",
      "Processing Record 206 | Padang\n",
      "Processing Record 207 | Valencia\n",
      "Processing Record 208 | Manono\n",
      "Processing Record 209 | Airai\n",
      "Processing Record 210 | Ciudad Guayana\n",
      "Processing Record 211 | Gudāri\n",
      "Processing Record 212 | Saint-Augustin\n",
      "Processing Record 213 | Khani\n",
      "City not found... Skipping.\n",
      "Processing Record 214 | Kalanguy\n",
      "Processing Record 215 | Panlaitan\n",
      "Processing Record 216 | Saint Anthony\n",
      "City not found... Skipping.\n",
      "Processing Record 217 | Bilibino\n",
      "Processing Record 218 | Lorengau\n",
      "Processing Record 219 | Mora\n",
      "City not found... Skipping.\n",
      "Processing Record 220 | Forbes\n",
      "Processing Record 221 | La Ronge\n",
      "Processing Record 222 | Ponta do Sol\n",
      "City not found... Skipping.\n",
      "Processing Record 223 | Kurchum\n",
      "Processing Record 224 | Zhigansk\n",
      "Processing Record 225 | Biak\n",
      "Processing Record 226 | Avera\n",
      "City not found... Skipping.\n",
      "City not found... Skipping.\n",
      "Processing Record 227 | Micheweni\n",
      "Processing Record 228 | Port Macquarie\n",
      "Processing Record 229 | Kannad\n"
     ]
    },
    {
     "name": "stdout",
     "output_type": "stream",
     "text": [
      "Processing Record 230 | Upernavik\n",
      "Processing Record 231 | Saldanha\n",
      "Processing Record 232 | Cherskiy\n",
      "Processing Record 233 | Saint-Philippe\n",
      "Processing Record 234 | Nānākuli\n",
      "Processing Record 235 | Velikiy Ustyug\n",
      "Processing Record 236 | Lavrentiya\n",
      "Processing Record 237 | Pyshchug\n",
      "Processing Record 238 | Mahébourg\n",
      "Processing Record 239 | Salalah\n",
      "Processing Record 240 | Poddor'ye\n",
      "Processing Record 241 | Mareeba\n",
      "Processing Record 242 | Berlevåg\n",
      "Processing Record 243 | Cabo San Lucas\n",
      "Processing Record 244 | Surab\n",
      "Processing Record 245 | Nouadhibou\n",
      "Processing Record 246 | New Albany\n",
      "Processing Record 247 | Lhokseumawe\n",
      "Processing Record 248 | Leshukonskoye\n",
      "Processing Record 249 | Sept-Îles\n",
      "Processing Record 250 | Souillac\n",
      "Processing Record 251 | Bandarbeyla\n",
      "Processing Record 252 | Ranong\n",
      "Processing Record 253 | Los Llanos de Aridane\n",
      "Processing Record 254 | Gīdolē\n",
      "Processing Record 255 | Carutapera\n",
      "Processing Record 256 | Sørland\n",
      "Processing Record 257 | Lebu\n",
      "Processing Record 258 | Dahuk\n",
      "Processing Record 259 | Severo-Kuril'sk\n",
      "Processing Record 260 | Quatre Cocos\n",
      "Processing Record 261 | Ostrovnoy\n",
      "Processing Record 262 | Iqaluit\n",
      "Processing Record 263 | Zhuhai\n",
      "Processing Record 264 | Gol\n",
      "Processing Record 265 | Lata\n",
      "Processing Record 266 | Vangaindrano\n",
      "Processing Record 267 | Yavatmal\n",
      "Processing Record 268 | Ancud\n",
      "Processing Record 269 | Puyang\n",
      "Processing Record 270 | Carnarvon\n",
      "Processing Record 271 | Leningradskiy\n",
      "Processing Record 272 | Mayumba\n",
      "Processing Record 273 | Litovko\n",
      "Processing Record 274 | Olinda\n",
      "Processing Record 275 | Nikolskoye\n",
      "Processing Record 276 | Shyryayeve\n",
      "Processing Record 277 | Sobolevo\n",
      "City not found... Skipping.\n",
      "Processing Record 278 | Xaçmaz\n",
      "Processing Record 279 | Souris\n",
      "Processing Record 280 | Nizhniy Kuranakh\n",
      "Processing Record 281 | Christchurch\n",
      "Processing Record 282 | Walvis Bay\n",
      "Processing Record 283 | Mehamn\n",
      "Processing Record 284 | Mahabalipuram\n",
      "Processing Record 285 | Lal'sk\n",
      "Processing Record 286 | Tuatapere\n",
      "Processing Record 287 | Rabo de Peixe\n",
      "Processing Record 288 | Dubbo\n",
      "Processing Record 289 | Maryville\n",
      "Processing Record 290 | Arman'\n",
      "Processing Record 291 | Lichinga\n",
      "Processing Record 292 | São Félix do Xingu\n",
      "Processing Record 293 | Westonaria\n",
      "Processing Record 294 | Alofi\n",
      "Processing Record 295 | Ust-Maya\n",
      "Processing Record 296 | Novyy Nekouz\n",
      "Processing Record 297 | Phalaborwa\n",
      "Processing Record 298 | San Patricio\n",
      "Processing Record 299 | Whyalla\n",
      "Processing Record 300 | Birao\n",
      "Processing Record 301 | Natchez\n",
      "Processing Record 302 | Yerbogachën\n",
      "Processing Record 303 | Mossamedes\n",
      "Processing Record 304 | Boueni\n",
      "Processing Record 305 | Umluj\n",
      "Processing Record 306 | Nemuro\n",
      "Processing Record 307 | Mayo\n",
      "Processing Record 308 | Genhe\n",
      "Processing Record 309 | Coquimbo\n",
      "Processing Record 310 | Ko Samui\n",
      "Processing Record 311 | Carthage\n",
      "Processing Record 312 | Kantilo\n",
      "Processing Record 313 | Aksu\n",
      "Processing Record 314 | Nhulunbuy\n",
      "City not found... Skipping.\n",
      "Processing Record 315 | San Cristobal\n",
      "Processing Record 316 | Novo Aripuanã\n",
      "Processing Record 317 | Kiama\n",
      "Processing Record 318 | Río Gallegos\n",
      "Processing Record 319 | Sassandra\n",
      "Processing Record 320 | Beaupré\n",
      "Processing Record 321 | Longaví\n",
      "Processing Record 322 | Alice Springs\n",
      "Processing Record 323 | Waipawa\n",
      "Processing Record 324 | Esperance\n",
      "Processing Record 325 | Kismayo\n",
      "Processing Record 326 | Saint Paul Harbor\n",
      "City not found... Skipping.\n",
      "City not found... Skipping.\n",
      "Processing Record 327 | Bantou\n",
      "Processing Record 328 | Payo\n",
      "Processing Record 329 | Half Moon Bay\n",
      "Processing Record 330 | Alghero\n",
      "Processing Record 331 | Baykit\n",
      "Processing Record 332 | Hualmay\n",
      "Processing Record 333 | Havelock\n",
      "Processing Record 334 | Ndola\n",
      "Processing Record 335 | Hambantota\n",
      "Processing Record 336 | Pevek\n",
      "City not found... Skipping.\n",
      "City not found... Skipping.\n",
      "Processing Record 337 | Chui\n",
      "Processing Record 338 | Rio Branco\n",
      "Processing Record 339 | Vanimo\n",
      "Processing Record 340 | Dehlorān\n",
      "Processing Record 341 | Miraflores\n",
      "Processing Record 342 | Mount Gambier\n",
      "Processing Record 343 | Kalengwa\n",
      "Processing Record 344 | Kuching\n",
      "City not found... Skipping.\n",
      "City not found... Skipping.\n",
      "Processing Record 345 | Saktī\n",
      "Processing Record 346 | Port Moresby\n",
      "Processing Record 347 | Knyaze-Volkonskoye\n",
      "Processing Record 348 | Zapolyarnyy\n",
      "Processing Record 349 | Lusambo\n",
      "Processing Record 350 | Kavaratti\n",
      "Processing Record 351 | Matara\n",
      "Processing Record 352 | Yarim\n",
      "Processing Record 353 | Giovinazzo\n",
      "Processing Record 354 | Puerto Carreño\n",
      "Processing Record 355 | Panguna\n",
      "Processing Record 356 | Soyo\n",
      "Processing Record 357 | Huarmey\n",
      "Processing Record 358 | Moose Factory\n",
      "Processing Record 359 | Badarganj\n",
      "Processing Record 360 | Labuhan\n",
      "Processing Record 361 | Polunochnoye\n",
      "Processing Record 362 | Quelimane\n",
      "Processing Record 363 | Yanam\n",
      "Processing Record 364 | Santa Cruz de la Sierra\n",
      "Processing Record 365 | Isangel\n",
      "Processing Record 366 | Dzaoudzi\n",
      "Processing Record 367 | Khasan\n",
      "City not found... Skipping.\n",
      "Processing Record 368 | Beipiao\n",
      "Processing Record 369 | Sisimiut\n",
      "Processing Record 370 | Srednekolymsk\n",
      "City not found... Skipping.\n",
      "Processing Record 371 | Morondava\n",
      "Processing Record 372 | Marsh Harbour\n",
      "Processing Record 373 | Castelo\n",
      "City not found... Skipping.\n",
      "Processing Record 374 | Aktau\n",
      "Processing Record 375 | Skjervøy\n",
      "Processing Record 376 | Beloha\n",
      "Processing Record 377 | Turtas\n",
      "Processing Record 378 | Tucuruí\n",
      "Processing Record 379 | Ritchie\n",
      "Processing Record 380 | Ndago\n",
      "Processing Record 381 | Philadelphia\n",
      "Processing Record 382 | Lagoa\n",
      "Processing Record 383 | Fairbanks\n",
      "Processing Record 384 | Oodweyne\n",
      "Processing Record 385 | Kudahuvadhoo\n",
      "Processing Record 386 | Waiouru\n",
      "Processing Record 387 | Shingū\n",
      "Processing Record 388 | Gimbi\n",
      "Processing Record 389 | Lüderitz\n",
      "Processing Record 390 | Kashgar\n",
      "Processing Record 391 | Alyangula\n",
      "City not found... Skipping.\n",
      "Processing Record 392 | Ust'-Kut\n",
      "Processing Record 393 | Acarí\n",
      "Processing Record 394 | Mnogovershinnyy\n",
      "Processing Record 395 | Poopó\n",
      "Processing Record 396 | Ust-Nera\n",
      "City not found... Skipping.\n",
      "Processing Record 397 | Kibre Mengist\n",
      "Processing Record 398 | Acapulco de Juárez\n",
      "Processing Record 399 | Buriti Alegre\n",
      "Processing Record 400 | Tsabong\n",
      "Processing Record 401 | Aykhal\n",
      "Processing Record 402 | Cayenne\n",
      "Processing Record 403 | Smithers\n",
      "Processing Record 404 | Malanje\n",
      "Processing Record 405 | Imeni Babushkina\n",
      "Processing Record 406 | Clarence Town\n",
      "Processing Record 407 | Kamina\n",
      "Processing Record 408 | São João da Barra\n",
      "Processing Record 409 | Manakara\n",
      "Processing Record 410 | Poum\n",
      "Processing Record 411 | Okhotsk\n",
      "Processing Record 412 | Shestakovo\n",
      "Processing Record 413 | Kuandian\n",
      "City not found... Skipping.\n",
      "Processing Record 414 | Pendleton\n",
      "City not found... Skipping.\n",
      "Processing Record 415 | Malartic\n",
      "Processing Record 416 | Mgandu\n",
      "City not found... Skipping.\n",
      "Processing Record 417 | Carbonear\n",
      "Processing Record 418 | Chapais\n",
      "Processing Record 419 | Bengkulu\n",
      "Processing Record 420 | Meulaboh\n",
      "Processing Record 421 | Dingle\n",
      "Processing Record 422 | Marfino\n",
      "Processing Record 423 | Mineros\n",
      "Processing Record 424 | Nelidovo\n",
      "Processing Record 425 | Ramnagar\n",
      "Processing Record 426 | Bermejo\n",
      "Processing Record 427 | Luquillo\n",
      "Processing Record 428 | Baoro\n",
      "Processing Record 429 | Bambanglipuro\n",
      "Processing Record 430 | Rize\n",
      "Processing Record 431 | Władysławowo\n",
      "Processing Record 432 | Mineiros\n",
      "Processing Record 433 | Kawalu\n",
      "Processing Record 434 | Araceli\n",
      "Processing Record 435 | San Jerónimo\n",
      "Processing Record 436 | Andenes\n",
      "Processing Record 437 | Saint-Louis\n",
      "Processing Record 438 | Koshurnikovo\n",
      "Processing Record 439 | Salekhard\n",
      "Processing Record 440 | Zhangaözen\n",
      "Processing Record 441 | Tūkrah\n",
      "Processing Record 442 | Beyneu\n",
      "Processing Record 443 | Krasnosel'kup\n",
      "Processing Record 444 | Gaza\n",
      "Processing Record 445 | Provideniya\n",
      "Processing Record 446 | Båtsfjord\n",
      "Processing Record 447 | Port Hardy\n",
      "Processing Record 448 | Windhoek\n",
      "City not found... Skipping.\n",
      "Processing Record 449 | Tiarei\n",
      "Processing Record 450 | Bang Saphan\n",
      "Processing Record 451 | Tarakan\n",
      "Processing Record 452 | Muli\n",
      "Processing Record 453 | Guipavas\n",
      "Processing Record 454 | El Copey\n",
      "Processing Record 455 | Olafsvik\n",
      "Processing Record 456 | Natal\n",
      "Processing Record 457 | Seymchan\n",
      "Processing Record 458 | Henties Bay\n",
      "Processing Record 459 | Yulara\n",
      "Processing Record 460 | Kumul\n"
     ]
    },
    {
     "name": "stdout",
     "output_type": "stream",
     "text": [
      "Processing Record 461 | Laguna\n",
      "City not found... Skipping.\n",
      "City not found... Skipping.\n",
      "Processing Record 462 | Alugan\n",
      "Processing Record 463 | Banganapalle\n",
      "Processing Record 464 | Luanda\n",
      "City not found... Skipping.\n",
      "Processing Record 465 | Najrān\n",
      "Processing Record 466 | Vaasa\n",
      "Processing Record 467 | Tara\n",
      "Processing Record 468 | Mopipi\n",
      "Processing Record 469 | Dahra\n",
      "Processing Record 470 | Copperas Cove\n",
      "Processing Record 471 | Hurghada\n",
      "City not found... Skipping.\n",
      "Processing Record 472 | Grand-Lahou\n",
      "Processing Record 473 | Morgantown\n",
      "Processing Record 474 | Opuwo\n",
      "Processing Record 475 | Te Anau\n",
      "Processing Record 476 | Oddur\n",
      "Processing Record 477 | Ciudad General Terán\n",
      "Processing Record 478 | Cloquet\n",
      "Processing Record 479 | Sterling\n",
      "Processing Record 480 | Shelburne\n",
      "Processing Record 481 | Kysyl-Syr\n",
      "Processing Record 482 | Aboisso\n",
      "Processing Record 483 | Bonnyville\n",
      "Processing Record 484 | Aklavik\n",
      "Processing Record 485 | Rāmgarh\n",
      "Processing Record 486 | Fasa\n",
      "City not found... Skipping.\n",
      "Processing Record 487 | Sūsangerd\n",
      "Processing Record 488 | Fastiv\n",
      "Processing Record 489 | High Prairie\n",
      "Processing Record 490 | Provincia di Cagliari\n",
      "Processing Record 491 | Bannu\n",
      "Processing Record 492 | Leeton\n",
      "Processing Record 493 | Korla\n",
      "Processing Record 494 | Ayan\n",
      "Processing Record 495 | Nevşehir\n",
      "Processing Record 496 | Istok\n",
      "Processing Record 497 | Nizhniy Tsasuchey\n",
      "Processing Record 498 | Tiznit Province\n",
      "Processing Record 499 | Mahon\n",
      "Processing Record 500 | Naze\n",
      "City not found... Skipping.\n",
      "Processing Record 501 | Kenai\n",
      "Processing Record 502 | Kununurra\n",
      "Processing Record 503 | Bemmel\n",
      "Processing Record 504 | Klaksvík\n",
      "Processing Record 505 | Jiayuguan City\n",
      "Processing Record 506 | Nabīnagar\n",
      "Processing Record 507 | Bonavista\n",
      "Processing Record 508 | Pāli\n",
      "Processing Record 509 | Kenora\n",
      "Processing Record 510 | Port Hawkesbury\n",
      "Processing Record 511 | Saint-Joseph\n",
      "Processing Record 512 | Thinadhoo\n",
      "Processing Record 513 | Talaya\n",
      "Processing Record 514 | Nyurba\n",
      "Processing Record 515 | São José da Coroa Grande\n",
      "Processing Record 516 | Springfield\n",
      "Processing Record 517 | Basco\n",
      "Processing Record 518 | Antalya Province\n",
      "Processing Record 519 | Amod\n",
      "City not found... Skipping.\n",
      "Processing Record 520 | Meadow Lake\n",
      "Processing Record 521 | Nantai\n",
      "Processing Record 522 | Norman Wells\n",
      "Processing Record 523 | Sheltozero\n",
      "Processing Record 524 | Itacarambi\n",
      "Processing Record 525 | Bonaventure\n",
      "Processing Record 526 | Bac Lieu\n",
      "Processing Record 527 | Sivaki\n",
      "Processing Record 528 | Batetskiy\n",
      "Processing Record 529 | Hat Yai\n",
      "Processing Record 530 | Sühbaatar\n",
      "Processing Record 531 | At-Bashi\n",
      "Processing Record 532 | Dauphin\n",
      "Processing Record 533 | Sawtell\n",
      "Processing Record 534 | Iquique\n",
      "Processing Record 535 | Kalmunai\n",
      "Processing Record 536 | Bubaque\n",
      "Processing Record 537 | Qui Nhon\n",
      "Processing Record 538 | Shakawe\n",
      "Processing Record 539 | Presidencia Roque Sáenz Peña\n",
      "Processing Record 540 | San Jose\n",
      "Processing Record 541 | Morehead\n",
      "Processing Record 542 | Lakselv\n",
      "Processing Record 543 | Port Shepstone\n",
      "Processing Record 544 | Tandaltī\n",
      "Processing Record 545 | Sur\n",
      "Processing Record 546 | Zhangjiakou\n",
      "Processing Record 547 | Pangody\n",
      "Processing Record 548 | Adrar\n",
      "Processing Record 549 | Kirovskiy\n",
      "City not found... Skipping.\n",
      "Processing Record 550 | Lidköping\n",
      "Processing Record 551 | Krutinka\n",
      "Processing Record 552 | Hetauda\n",
      "Processing Record 553 | Conselheiro Pena\n",
      "Processing Record 554 | Hirara\n",
      "Processing Record 555 | Prince Rupert\n",
      "City not found... Skipping.\n",
      "Processing Record 556 | Juneau\n",
      "Processing Record 557 | Saint-Alexandre\n",
      "Processing Record 558 | Øksfjord\n",
      "Processing Record 559 | Bozhou\n",
      "Processing Record 560 | Priladozhskiy\n",
      "Processing Record 561 | Husavik\n",
      "Processing Record 562 | Yangi Marg`ilon\n",
      "Processing Record 563 | Malko Tarnovo\n",
      "Processing Record 564 | Netivot\n",
      "Processing Record 565 | Atlantic City\n",
      "Processing Record 566 | Kapit\n",
      "Processing Record 567 | Nalgonda\n",
      "Processing Record 568 | Nantucket\n",
      "Processing Record 569 | Tongliao\n",
      "Processing Record 570 | Savelugu\n",
      "Processing Record 571 | Yar-Sale\n",
      "Processing Record 572 | Jalalabad\n",
      "Processing Record 573 | Bogovarovo\n",
      "City not found... Skipping.\n",
      "Processing Record 574 | Saryozek\n",
      "Processing Record 575 | Wichian Buri\n",
      "Processing Record 576 | Gewanē\n",
      "Processing Record 577 | Sitka\n",
      "Processing Record 578 | Avilés\n",
      "Processing Record 579 | Nuuk\n",
      "Processing Record 580 | Vanderhoof\n",
      "Processing Record 581 | Makokou\n",
      "Processing Record 582 | Strelka\n",
      "Processing Record 583 | Launceston\n",
      "Processing Record 584 | Mangochi\n",
      "Processing Record 585 | Les Cayes\n",
      "Processing Record 586 | Tual\n",
      "Processing Record 587 | Bukama\n"
     ]
    }
   ],
   "source": [
    "#Create empty lists\n",
    "city_name = []\n",
    "cloudiness = []\n",
    "country = []\n",
    "date = []\n",
    "humidity = []\n",
    "lat = []\n",
    "lng = []\n",
    "max_temp = []\n",
    "wind_speed = []\n",
    "\n",
    "#Start counter \n",
    "j = 1\n",
    "\n",
    "#Loop through the cities in the city list \n",
    "for city in cities: \n",
    "    \n",
    "    \n",
    "    #Try statement to append calls where value is found \n",
    "    try: \n",
    "        \n",
    "        #Define response\n",
    "        response = requests.get(f\"{url}&q={city}\").json()\n",
    "        city_record = response[\"name\"]\n",
    "    \n",
    "        city_name.append(response[\"name\"])\n",
    "        cloudiness.append(response[\"clouds\"][\"all\"])\n",
    "        country.append(response[\"sys\"][\"country\"])\n",
    "        date.append(response[\"dt\"])\n",
    "        humidity.append(response[\"main\"][\"humidity\"])\n",
    "        max_temp.append(response[\"main\"][\"temp_max\"])\n",
    "        lat.append(response[\"coord\"][\"lat\"])\n",
    "        lng.append(response[\"coord\"][\"lon\"])\n",
    "        wind_speed.append(response[\"wind\"][\"speed\"])\n",
    "        \n",
    "        print(f\"Processing Record {j} | {city_record}\")\n",
    "        \n",
    "        #Increase counter by one \n",
    "        j = j + 1\n",
    "        \n",
    "    #If no record skip to next\n",
    "    except:\n",
    "        print(\"City not found... Skipping.\")\n",
    "    continue\n"
   ]
  },
  {
   "cell_type": "markdown",
   "metadata": {},
   "source": [
    "### Convert Raw Data to DataFrame\n",
    "* Export the city data into a .csv.\n",
    "* Display the DataFrame"
   ]
  },
  {
   "cell_type": "code",
   "execution_count": 5,
   "metadata": {},
   "outputs": [
    {
     "data": {
      "text/html": [
       "<div>\n",
       "<style scoped>\n",
       "    .dataframe tbody tr th:only-of-type {\n",
       "        vertical-align: middle;\n",
       "    }\n",
       "\n",
       "    .dataframe tbody tr th {\n",
       "        vertical-align: top;\n",
       "    }\n",
       "\n",
       "    .dataframe thead th {\n",
       "        text-align: right;\n",
       "    }\n",
       "</style>\n",
       "<table border=\"1\" class=\"dataframe\">\n",
       "  <thead>\n",
       "    <tr style=\"text-align: right;\">\n",
       "      <th></th>\n",
       "      <th>City</th>\n",
       "      <th>Cloudiness</th>\n",
       "      <th>Country</th>\n",
       "      <th>Date</th>\n",
       "      <th>Humidity</th>\n",
       "      <th>Latitude</th>\n",
       "      <th>Longitude</th>\n",
       "      <th>Max Temp</th>\n",
       "      <th>Wind Speed</th>\n",
       "    </tr>\n",
       "    <tr>\n",
       "      <th>City ID</th>\n",
       "      <th></th>\n",
       "      <th></th>\n",
       "      <th></th>\n",
       "      <th></th>\n",
       "      <th></th>\n",
       "      <th></th>\n",
       "      <th></th>\n",
       "      <th></th>\n",
       "      <th></th>\n",
       "    </tr>\n",
       "  </thead>\n",
       "  <tbody>\n",
       "    <tr>\n",
       "      <th>0</th>\n",
       "      <td>Berlare</td>\n",
       "      <td>99</td>\n",
       "      <td>BE</td>\n",
       "      <td>1603168604</td>\n",
       "      <td>88</td>\n",
       "      <td>51.04</td>\n",
       "      <td>3.98</td>\n",
       "      <td>53.01</td>\n",
       "      <td>4.00</td>\n",
       "    </tr>\n",
       "    <tr>\n",
       "      <th>1</th>\n",
       "      <td>Verkhoyansk</td>\n",
       "      <td>100</td>\n",
       "      <td>RU</td>\n",
       "      <td>1603168604</td>\n",
       "      <td>90</td>\n",
       "      <td>67.54</td>\n",
       "      <td>133.38</td>\n",
       "      <td>14.92</td>\n",
       "      <td>3.53</td>\n",
       "    </tr>\n",
       "    <tr>\n",
       "      <th>2</th>\n",
       "      <td>Longyearbyen</td>\n",
       "      <td>75</td>\n",
       "      <td>SJ</td>\n",
       "      <td>1603168405</td>\n",
       "      <td>68</td>\n",
       "      <td>78.22</td>\n",
       "      <td>15.64</td>\n",
       "      <td>26.60</td>\n",
       "      <td>3.36</td>\n",
       "    </tr>\n",
       "    <tr>\n",
       "      <th>3</th>\n",
       "      <td>Nogales</td>\n",
       "      <td>1</td>\n",
       "      <td>MX</td>\n",
       "      <td>1603168473</td>\n",
       "      <td>22</td>\n",
       "      <td>31.31</td>\n",
       "      <td>-110.94</td>\n",
       "      <td>66.00</td>\n",
       "      <td>5.82</td>\n",
       "    </tr>\n",
       "    <tr>\n",
       "      <th>4</th>\n",
       "      <td>São Miguel</td>\n",
       "      <td>40</td>\n",
       "      <td>BR</td>\n",
       "      <td>1603168605</td>\n",
       "      <td>88</td>\n",
       "      <td>-5.47</td>\n",
       "      <td>-35.37</td>\n",
       "      <td>73.40</td>\n",
       "      <td>4.70</td>\n",
       "    </tr>\n",
       "  </tbody>\n",
       "</table>\n",
       "</div>"
      ],
      "text/plain": [
       "                 City  Cloudiness Country        Date  Humidity  Latitude  \\\n",
       "City ID                                                                     \n",
       "0             Berlare          99      BE  1603168604        88     51.04   \n",
       "1         Verkhoyansk         100      RU  1603168604        90     67.54   \n",
       "2        Longyearbyen          75      SJ  1603168405        68     78.22   \n",
       "3             Nogales           1      MX  1603168473        22     31.31   \n",
       "4          São Miguel          40      BR  1603168605        88     -5.47   \n",
       "\n",
       "         Longitude  Max Temp  Wind Speed  \n",
       "City ID                                   \n",
       "0             3.98     53.01        4.00  \n",
       "1           133.38     14.92        3.53  \n",
       "2            15.64     26.60        3.36  \n",
       "3          -110.94     66.00        5.82  \n",
       "4           -35.37     73.40        4.70  "
      ]
     },
     "execution_count": 5,
     "metadata": {},
     "output_type": "execute_result"
    }
   ],
   "source": [
    "#Create DF\n",
    "city_df = pd.DataFrame({\"City\": city_name,\n",
    "                       \"Cloudiness\": cloudiness,\n",
    "                       \"Country\": country,\n",
    "                       \"Date\": date,\n",
    "                       \"Humidity\": humidity,\n",
    "                       \"Latitude\": lat,\n",
    "                       \"Longitude\": lng,\n",
    "                       \"Max Temp\": max_temp,\n",
    "                       \"Wind Speed\": wind_speed})\n",
    "\n",
    "#Rename index to 'City ID'\n",
    "city_df = city_df.rename_axis(\"City ID\")\n",
    "\n",
    "#Export Data to CSV\n",
    "city_df.to_csv(\"../output_data/city.csv\")\n",
    "\n",
    "#Display DF\n",
    "city_df.head()"
   ]
  },
  {
   "cell_type": "code",
   "execution_count": 6,
   "metadata": {},
   "outputs": [
    {
     "data": {
      "text/plain": [
       "City          587\n",
       "Cloudiness    587\n",
       "Country       587\n",
       "Date          587\n",
       "Humidity      587\n",
       "Latitude      587\n",
       "Longitude     587\n",
       "Max Temp      587\n",
       "Wind Speed    587\n",
       "dtype: int64"
      ]
     },
     "execution_count": 6,
     "metadata": {},
     "output_type": "execute_result"
    }
   ],
   "source": [
    "city_df.count()"
   ]
  },
  {
   "cell_type": "markdown",
   "metadata": {},
   "source": [
    "## Inspect the data and remove the cities where the humidity > 100%.\n",
    "----\n",
    "Skip this step if there are no cities that have humidity > 100%. "
   ]
  },
  {
   "cell_type": "markdown",
   "metadata": {},
   "source": [
    "- No Cities with Humidity greater than 100%"
   ]
  },
  {
   "cell_type": "markdown",
   "metadata": {},
   "source": [
    "## Plotting the Data\n",
    "* Use proper labeling of the plots using plot titles (including date of analysis) and axes labels.\n",
    "* Save the plotted figures as .pngs."
   ]
  },
  {
   "cell_type": "markdown",
   "metadata": {},
   "source": [
    "## Latitude vs. Humidity Plot"
   ]
  },
  {
   "cell_type": "code",
   "execution_count": 7,
   "metadata": {},
   "outputs": [
    {
     "data": {
      "image/png": "[encoded data removed]",
      "text/plain": [
       "<Figure size 432x288 with 1 Axes>"
      ]
     },
     "metadata": {
      "needs_background": "light"
     },
     "output_type": "display_data"
    }
   ],
   "source": [
    "#Build Scatter Plot\n",
    "plt.scatter(city_df[\"Latitude\"], city_df[\"Humidity\"], marker = \"o\", s = 10)\n",
    "\n",
    "#Set Labels and Grid\n",
    "plt.title(\"City Latitude vs. Humidity\")\n",
    "plt.ylabel(\"Humidity (%)\")\n",
    "plt.xlabel(\"Latitude\")\n",
    "plt.grid(True)\n",
    "\n",
    "#Save figure\n",
    "plt.savefig(\"../output_data/humidity_vs_latitude.png\")\n",
    "\n",
    "#Show plot\n",
    "plt.show()"
   ]
  },
  {
   "cell_type": "markdown",
   "metadata": {},
   "source": [
    "- This plot shows no real correlation between a city's latitude and it's humidity %."
   ]
  },
  {
   "cell_type": "markdown",
   "metadata": {},
   "source": [
    "## Latitude vs. Temperature Plot"
   ]
  },
  {
   "cell_type": "code",
   "execution_count": 8,
   "metadata": {
    "scrolled": true
   },
   "outputs": [
    {
     "data": {
      "image/png": "[encoded data removed]",
      "text/plain": [
       "<Figure size 432x288 with 1 Axes>"
      ]
     },
     "metadata": {
      "needs_background": "light"
     },
     "output_type": "display_data"
    }
   ],
   "source": [
    "#Build Scatter Plot\n",
    "plt.scatter(city_df[\"Latitude\"], city_df[\"Max Temp\"], marker = \"o\", s = 10)\n",
    "\n",
    "#Set Labels and Grid\n",
    "plt.title(\"City Latitude vs. Max Temperature\")\n",
    "plt.ylabel(\"Max. Temperature (F)\")\n",
    "plt.xlabel(\"Latitude\")\n",
    "plt.grid(True)\n",
    "\n",
    "#Save figure\n",
    "plt.savefig(\"../output_data/max_temp_vs_latitude.png\")\n",
    "\n",
    "#Show plot\n",
    "plt.show()"
   ]
  },
  {
   "cell_type": "markdown",
   "metadata": {},
   "source": [
    "- This plot shows us, for the most part, as you move away from the equator the temperature drops."
   ]
  },
  {
   "cell_type": "markdown",
   "metadata": {},
   "source": [
    "## Latitude vs. Cloudiness Plot"
   ]
  },
  {
   "cell_type": "code",
   "execution_count": 9,
   "metadata": {},
   "outputs": [
    {
     "data": {
      "image/png": "[encoded data removed]",
      "text/plain": [
       "<Figure size 432x288 with 1 Axes>"
      ]
     },
     "metadata": {
      "needs_background": "light"
     },
     "output_type": "display_data"
    }
   ],
   "source": [
    "#Build Scatter Plot\n",
    "plt.scatter(city_df[\"Latitude\"], city_df[\"Cloudiness\"], marker = \"o\", s = 10)\n",
    "\n",
    "#Set Labels and Grid\n",
    "plt.title(\"City Latitude vs. Cloudiness\")\n",
    "plt.ylabel(\"Cloudiness (%)\")\n",
    "plt.xlabel(\"Latitude\")\n",
    "plt.grid(True)\n",
    "\n",
    "#Save figure\n",
    "plt.savefig(\"../output_data/cloudiness_vs_latitude.png\")\n",
    "\n",
    "#Show plot\n",
    "plt.show()"
   ]
  },
  {
   "cell_type": "markdown",
   "metadata": {},
   "source": [
    "- This plot shows no real correlation between City Latitude and Cloudiness."
   ]
  },
  {
   "cell_type": "markdown",
   "metadata": {},
   "source": [
    "## Latitude vs. Wind Speed Plot"
   ]
  },
  {
   "cell_type": "code",
   "execution_count": 10,
   "metadata": {},
   "outputs": [
    {
     "data": {
      "image/png": "[encoded data removed]",
      "text/plain": [
       "<Figure size 432x288 with 1 Axes>"
      ]
     },
     "metadata": {
      "needs_background": "light"
     },
     "output_type": "display_data"
    }
   ],
   "source": [
    "#Build Scatter Plot\n",
    "plt.scatter(city_df[\"Latitude\"], city_df[\"Wind Speed\"], marker = \"o\", s = 10)\n",
    "\n",
    "#Set Labels and Grid\n",
    "plt.title(\"City Latitude vs. Wind Speed\")\n",
    "plt.ylabel(\"Wind Speed (MPH)\")\n",
    "plt.xlabel(\"Latitude\")\n",
    "plt.grid(True)\n",
    "\n",
    "#Save figure\n",
    "plt.savefig(\"../output_data/wind_speed_vs_latitude.png\")\n",
    "\n",
    "#Show plot\n",
    "plt.show()"
   ]
  },
  {
   "cell_type": "markdown",
   "metadata": {},
   "source": [
    "- This plot shows no real correlation between City Latitude and Wind Speed."
   ]
  },
  {
   "cell_type": "markdown",
   "metadata": {},
   "source": [
    "## Linear Regression"
   ]
  },
  {
   "cell_type": "code",
   "execution_count": 11,
   "metadata": {},
   "outputs": [],
   "source": [
    "#Create DF for Northern and Southern Hemisphere\n",
    "northern_df = city_df.loc[pd.to_numeric(city_df[\"Latitude\"]).astype(float) > 0, :]\n",
    "southern_df = city_df.loc[pd.to_numeric(city_df[\"Latitude\"]).astype(float) < 0, :]\n"
   ]
  },
  {
   "cell_type": "code",
   "execution_count": 12,
   "metadata": {},
   "outputs": [],
   "source": [
    "#Function to create Linear Regression plots\n",
    "def linear_reg_plot(x_values,y_values):\n",
    "    (slope, intercept, rvalue, pvalue, stderr) = linregress(x_values, y_values)\n",
    "    regress_values = x_values * slope + intercept\n",
    "    line_eq = \"y = \" + str(round(slope,2)) + \"x + \" + str(round(intercept,2))\n",
    "\n",
    "#Create Line plot, Add linear regression equation and line to plot, change x label   \n",
    "    plt.scatter(x_values,y_values)\n",
    "    plt.plot(x_values,regress_values,\"r-\")\n",
    "    plt.annotate(line_eq,(x_values.median(),y_values.median()),fontsize=15,color=\"red\")\n",
    "    plt.xlabel(\"Latitude\")\n",
    "\n",
    "#Show plot\n",
    "    plt.show()"
   ]
  },
  {
   "cell_type": "markdown",
   "metadata": {},
   "source": [
    "####  Northern Hemisphere - Max Temp vs. Latitude Linear Regression"
   ]
  },
  {
   "cell_type": "code",
   "execution_count": 13,
   "metadata": {},
   "outputs": [
    {
     "data": {
      "image/png": "[encoded data removed]",
      "text/plain": [
       "<Figure size 432x288 with 1 Axes>"
      ]
     },
     "metadata": {
      "needs_background": "light"
     },
     "output_type": "display_data"
    },
    {
     "name": "stdout",
     "output_type": "stream",
     "text": [
      "None\n"
     ]
    },
    {
     "data": {
      "text/plain": [
       "<Figure size 432x288 with 0 Axes>"
      ]
     },
     "metadata": {},
     "output_type": "display_data"
    }
   ],
   "source": [
    "x_values = northern_df[\"Latitude\"]\n",
    "y_values = northern_df[\"Max Temp\"]\n",
    "plt.ylabel(\"Max Temp (F)\")\n",
    "print(linear_reg_plot(x_values,y_values))\n",
    "plt.savefig(\"../output_data/NH_max_temp_vs_lat.png\")\n"
   ]
  },
  {
   "cell_type": "markdown",
   "metadata": {},
   "source": [
    "- The regression line shows us the farther away you live from the equator, the colder the max temperature is."
   ]
  },
  {
   "cell_type": "markdown",
   "metadata": {},
   "source": [
    "####  Southern Hemisphere - Max Temp vs. Latitude Linear Regression"
   ]
  },
  {
   "cell_type": "code",
   "execution_count": 14,
   "metadata": {},
   "outputs": [
    {
     "data": {
      "image/png": "[encoded data removed]",
      "text/plain": [
       "<Figure size 432x288 with 1 Axes>"
      ]
     },
     "metadata": {
      "needs_background": "light"
     },
     "output_type": "display_data"
    },
    {
     "name": "stdout",
     "output_type": "stream",
     "text": [
      "None\n"
     ]
    },
    {
     "data": {
      "text/plain": [
       "<Figure size 432x288 with 0 Axes>"
      ]
     },
     "metadata": {},
     "output_type": "display_data"
    }
   ],
   "source": [
    "x_values = southern_df[\"Latitude\"]\n",
    "y_values = southern_df[\"Max Temp\"]\n",
    "plt.ylabel(\"Max Temp (F)\")\n",
    "print(linear_reg_plot(x_values,y_values))\n",
    "plt.savefig(\"../output_data/SH_max_temp_vs_lat.png\")\n"
   ]
  },
  {
   "cell_type": "markdown",
   "metadata": {},
   "source": [
    "- The regression line shows us the closer you live to the equator, the hotter the max temperature is."
   ]
  },
  {
   "cell_type": "markdown",
   "metadata": {},
   "source": [
    "####  Northern Hemisphere - Humidity (%) vs. Latitude Linear Regression"
   ]
  },
  {
   "cell_type": "code",
   "execution_count": 15,
   "metadata": {},
   "outputs": [
    {
     "data": {
      "image/png": "[encoded data removed]",
      "text/plain": [
       "<Figure size 432x288 with 1 Axes>"
      ]
     },
     "metadata": {
      "needs_background": "light"
     },
     "output_type": "display_data"
    },
    {
     "name": "stdout",
     "output_type": "stream",
     "text": [
      "None\n"
     ]
    },
    {
     "data": {
      "text/plain": [
       "<Figure size 432x288 with 0 Axes>"
      ]
     },
     "metadata": {},
     "output_type": "display_data"
    }
   ],
   "source": [
    "x_values = northern_df[\"Latitude\"]\n",
    "y_values = northern_df[\"Humidity\"]\n",
    "plt.ylabel(\"Humidity (%)\")\n",
    "print(linear_reg_plot(x_values,y_values))\n",
    "plt.savefig(\"../output_data/NH_humidity_vs_lat.png\")\n"
   ]
  },
  {
   "cell_type": "markdown",
   "metadata": {},
   "source": [
    "- The regression line shows no real correlation between humidity and latitue in the northern hemisphere. "
   ]
  },
  {
   "cell_type": "markdown",
   "metadata": {},
   "source": [
    "####  Southern Hemisphere - Humidity (%) vs. Latitude Linear Regression"
   ]
  },
  {
   "cell_type": "code",
   "execution_count": 16,
   "metadata": {},
   "outputs": [
    {
     "data": {
      "image/png": "[encoded data removed]",
      "text/plain": [
       "<Figure size 432x288 with 1 Axes>"
      ]
     },
     "metadata": {
      "needs_background": "light"
     },
     "output_type": "display_data"
    },
    {
     "name": "stdout",
     "output_type": "stream",
     "text": [
      "None\n"
     ]
    },
    {
     "data": {
      "text/plain": [
       "<Figure size 432x288 with 0 Axes>"
      ]
     },
     "metadata": {},
     "output_type": "display_data"
    }
   ],
   "source": [
    "x_values = southern_df[\"Latitude\"]\n",
    "y_values = southern_df[\"Humidity\"]\n",
    "plt.ylabel(\"Humidity (%)\")\n",
    "print(linear_reg_plot(x_values,y_values))\n",
    "plt.savefig(\"../output_data/SH_humidity_vs_latitude.png\")\n"
   ]
  },
  {
   "cell_type": "markdown",
   "metadata": {},
   "source": [
    "- The regression line shows no real correlation between humidity and latitue in the Southern hemisphere. "
   ]
  },
  {
   "cell_type": "markdown",
   "metadata": {},
   "source": [
    "Northern Hemisphere - Cloudiness (%) vs. Latitude Linear Regression "
   ]
  },
  {
   "cell_type": "code",
   "execution_count": 17,
   "metadata": {
    "scrolled": true
   },
   "outputs": [
    {
     "data": {
      "image/png": "[encoded data removed]",
      "text/plain": [
       "<Figure size 432x288 with 1 Axes>"
      ]
     },
     "metadata": {
      "needs_background": "light"
     },
     "output_type": "display_data"
    },
    {
     "name": "stdout",
     "output_type": "stream",
     "text": [
      "None\n"
     ]
    },
    {
     "data": {
      "text/plain": [
       "<Figure size 432x288 with 0 Axes>"
      ]
     },
     "metadata": {},
     "output_type": "display_data"
    }
   ],
   "source": [
    "x_values = northern_df[\"Latitude\"]\n",
    "y_values = northern_df[\"Cloudiness\"]\n",
    "plt.ylabel(\"Cloudiness\")\n",
    "print(linear_reg_plot(x_values,y_values))\n",
    "plt.savefig(\"../output_data/NH_cloudiness_vs_latitude.png\")\n"
   ]
  },
  {
   "cell_type": "markdown",
   "metadata": {},
   "source": [
    "- - The regression line shows no real correlation between cloudiness and latitue in the northern hemisphere. "
   ]
  },
  {
   "cell_type": "markdown",
   "metadata": {},
   "source": [
    "Southern Hemisphere - Cloudiness (%) vs. Latitude Linear Regression"
   ]
  },
  {
   "cell_type": "code",
   "execution_count": 18,
   "metadata": {},
   "outputs": [
    {
     "data": {
      "image/png": "[encoded data removed]",
      "text/plain": [
       "<Figure size 432x288 with 1 Axes>"
      ]
     },
     "metadata": {
      "needs_background": "light"
     },
     "output_type": "display_data"
    },
    {
     "name": "stdout",
     "output_type": "stream",
     "text": [
      "None\n"
     ]
    },
    {
     "data": {
      "text/plain": [
       "<Figure size 432x288 with 0 Axes>"
      ]
     },
     "metadata": {},
     "output_type": "display_data"
    }
   ],
   "source": [
    "x_values = southern_df[\"Latitude\"]\n",
    "y_values = southern_df[\"Cloudiness\"]\n",
    "plt.ylabel(\"Cloudiness\")\n",
    "print(linear_reg_plot(x_values,y_values))\n",
    "plt.savefig(\"../output_data/SH_cloudiness_vs_latitude.png\")\n"
   ]
  },
  {
   "cell_type": "markdown",
   "metadata": {},
   "source": [
    "- The regression line shows no real correlation between cloudiness and latitue in the southern hemisphere. "
   ]
  },
  {
   "cell_type": "markdown",
   "metadata": {},
   "source": [
    "####  Northern Hemisphere - Wind Speed (mph) vs. Latitude Linear Regression"
   ]
  },
  {
   "cell_type": "code",
   "execution_count": 19,
   "metadata": {},
   "outputs": [
    {
     "data": {
      "image/png": "[encoded data removed]",
      "text/plain": [
       "<Figure size 432x288 with 1 Axes>"
      ]
     },
     "metadata": {
      "needs_background": "light"
     },
     "output_type": "display_data"
    },
    {
     "name": "stdout",
     "output_type": "stream",
     "text": [
      "None\n"
     ]
    },
    {
     "data": {
      "text/plain": [
       "<Figure size 432x288 with 0 Axes>"
      ]
     },
     "metadata": {},
     "output_type": "display_data"
    }
   ],
   "source": [
    "x_values = northern_df[\"Latitude\"]\n",
    "y_values = northern_df[\"Wind Speed\"]\n",
    "plt.ylabel(\"Wind Speed (MPH)\")\n",
    "print(linear_reg_plot(x_values,y_values))\n",
    "plt.savefig(\"../output_data/NH_wind_speed_vs_latitude.png\")\n"
   ]
  },
  {
   "cell_type": "markdown",
   "metadata": {},
   "source": [
    "- The regression line shows no real correlation between wind speed and latitue in the northern hemisphere. "
   ]
  },
  {
   "cell_type": "markdown",
   "metadata": {},
   "source": [
    "####  Southern Hemisphere - Wind Speed (mph) vs. Latitude Linear Regression"
   ]
  },
  {
   "cell_type": "code",
   "execution_count": 20,
   "metadata": {},
   "outputs": [
    {
     "data": {
      "image/png": "[encoded data removed]",
      "text/plain": [
       "<Figure size 432x288 with 1 Axes>"
      ]
     },
     "metadata": {
      "needs_background": "light"
     },
     "output_type": "display_data"
    },
    {
     "name": "stdout",
     "output_type": "stream",
     "text": [
      "None\n"
     ]
    },
    {
     "data": {
      "text/plain": [
       "<Figure size 432x288 with 0 Axes>"
      ]
     },
     "metadata": {},
     "output_type": "display_data"
    }
   ],
   "source": [
    "x_values = southern_df[\"Latitude\"]\n",
    "y_values = southern_df[\"Wind Speed\"]\n",
    "plt.ylabel(\"Wind Speed (MPH)\")\n",
    "print(linear_reg_plot(x_values,y_values))\n",
    "plt.savefig(\"../output_data/SH_wind_speed_vs_latitude.png\")\n"
   ]
  },
  {
   "cell_type": "markdown",
   "metadata": {},
   "source": [
    "- The regression line shows no real correlation between wind speed and latitue in the southern hemisphere. "
   ]
  },
  {
   "cell_type": "code",
   "execution_count": null,
   "metadata": {},
   "outputs": [],
   "source": []
  }
 ],
 "metadata": {
  "anaconda-cloud": {},
  "kernel_info": {
   "name": "python3"
  },
  "kernelspec": {
   "display_name": "Python 3",
   "language": "python",
   "name": "python3"
  },
  "language_info": {
   "codemirror_mode": {
    "name": "ipython",
    "version": 3
   },
   "file_extension": ".py",
   "mimetype": "text/x-python",
   "name": "python",
   "nbconvert_exporter": "python",
   "pygments_lexer": "ipython3",
   "version": "3.8.3"
  },
  "latex_envs": {
   "LaTeX_envs_menu_present": true,
   "autoclose": false,
   "autocomplete": true,
   "bibliofile": "biblio.bib",
   "cite_by": "apalike",
   "current_citInitial": 1,
   "eqLabelWithNumbers": true,
   "eqNumInitial": 1,
   "hotkeys": {
    "equation": "Ctrl-E",
    "itemize": "Ctrl-I"
   },
   "labels_anchors": false,
   "latex_user_defs": false,
   "report_style_numbering": false,
   "user_envs_cfg": false
  },
  "nteract": {
   "version": "0.12.3"
  }
 },
 "nbformat": 4,
 "nbformat_minor": 2
}
